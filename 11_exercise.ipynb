{
 "cells": [
  {
   "cell_type": "markdown",
   "metadata": {},
   "source": [
    "# Task: Enhance the Shopping List Manager\n",
    "\n",
    "## Objective\n",
    "Develop two functions to update item names and prices in a shopping list and price dictionary. Then, integrate these functions into an existing menu-driven application.\n"
   ]
  },
  {
   "cell_type": "markdown",
   "metadata": {},
   "source": [
    "### All the important functions that were used in previous demos are added here for your ease"
   ]
  },
  {
   "cell_type": "code",
   "execution_count": 1,
   "metadata": {},
   "outputs": [
    {
     "name": "stdout",
     "output_type": "stream",
     "text": [
      "Initial shopping list: ['apples', 'bananas', 'carrots']\n",
      "Initial item prices: {'apples': 1.5, 'bananas': 0.5, 'carrots': 0.3}\n"
     ]
    }
   ],
   "source": [
    "shopping_list = ['apples', 'bananas', 'carrots']\n",
    "item_prices = {'apples': 1.50, 'bananas': 0.50, 'carrots': 0.30}\n",
    "print('Initial shopping list:', shopping_list)\n",
    "print('Initial item prices:', item_prices)"
   ]
  },
  {
   "cell_type": "markdown",
   "metadata": {},
   "source": [
    "### Adding Item"
   ]
  },
  {
   "cell_type": "code",
   "execution_count": 2,
   "metadata": {},
   "outputs": [],
   "source": [
    "def add_item(item_name, price):\n",
    "    if item_name in shopping_list:\n",
    "        print(f'{item_name} is already in the shopping list.')\n",
    "    else:\n",
    "        shopping_list.append(item_name)\n",
    "        item_prices[item_name] = price\n",
    "        print(f'Added {item_name} at ${price}.')"
   ]
  },
  {
   "cell_type": "markdown",
   "metadata": {},
   "source": [
    "### Removing Item"
   ]
  },
  {
   "cell_type": "code",
   "execution_count": 3,
   "metadata": {},
   "outputs": [],
   "source": [
    "def remove_item(item_name):\n",
    "    if item_name in shopping_list:\n",
    "        shopping_list.remove(item_name)\n",
    "        del item_prices[item_name]\n",
    "        print(f'Removed {item_name}.')\n",
    "    else:\n",
    "        print(f'{item_name} is not in the shopping list.')"
   ]
  },
  {
   "cell_type": "markdown",
   "metadata": {},
   "source": [
    "### Adding Multiple Items"
   ]
  },
  {
   "cell_type": "code",
   "execution_count": 4,
   "metadata": {},
   "outputs": [],
   "source": [
    "def add_multiple_items(items_string):\n",
    "    items = items_string.split(',')\n",
    "    for item in items:\n",
    "        name, price = item.split(':')\n",
    "        print(name, price)\n",
    "        add_item(name.strip(), float(price.strip()))"
   ]
  },
  {
   "cell_type": "markdown",
   "metadata": {},
   "source": [
    "### Task 1: Create the `update_item_in_list` Function\n",
    "- **Function Name:** `update_item_in_list`\n",
    "- **Parameters:** `old_name`, `new_name`\n",
    "- **Description:** This function should update the name of an item in the `shopping_list`. If `old_name` is found, it should be updated to `new_name`. If `old_name` does not exist in the list, the function should print an appropriate error message. Also, check if `new_name` already exists in the list to avoid duplicates."
   ]
  },
  {
   "cell_type": "code",
   "execution_count": 5,
   "metadata": {},
   "outputs": [],
   "source": [
    "def update_item_in_list(old_name, new_name):\n",
    "    if new_name not in shopping_list:\n",
    "        if old_name in shopping_list: \n",
    "            index = shopping_list.index(old_name)\n",
    "            shopping_list[index] = new_name\n",
    "            print(\"Item successfully added.\")\n",
    "        else:\n",
    "            print(f\"Error. {old_name} does not exist\")\n",
    "    else: \n",
    "        print(f\"{new_name} already exists\")"
   ]
  },
  {
   "cell_type": "markdown",
   "metadata": {},
   "source": [
    "### Task 2: Create the `update_item_in_dict` Function\n",
    "- **Function Name:** `update_item_in_dict`\n",
    "- **Parameters:** `old_name` (str), `new_name` (str), `item_price` (float)\n",
    "- **Description:** This function should update the name and price of an item in the `item_prices` dictionary. If `old_name` is found, it should be updated to `new_name` and `item_price`. If `old_name` does not exist, print an error message. Additionally, check if `new_name` already exists in the dictionary to avoid duplicating entries."
   ]
  },
  {
   "cell_type": "code",
   "execution_count": 6,
   "metadata": {},
   "outputs": [],
   "source": [
    "def update_item_in_dict(old_name, new_name, item_price):\n",
    "    if new_name not in item_prices:\n",
    "        if old_name in item_prices:\n",
    "            item_prices[new_name] = item_prices.pop(old_name)\n",
    "            item_prices[new_name] = item_price\n",
    "            print(\"Item successfully added.\")\n",
    "        else:\n",
    "            print(f\"Error. {old_name} does not exist.\")            \n",
    "    else:\n",
    "        print(f\"{new_name} already exists.\")\n",
    "         "
   ]
  },
  {
   "cell_type": "markdown",
   "metadata": {},
   "source": [
    "## Task 3: Instructions for Integration into the Main Menu\n",
    "Required Modifications: Add a new option that allows users to update both the name and the price of an existing item. This integration will utilize the update_item_in_list and update_item_in_dict functions created in previous tasks"
   ]
  },
  {
   "cell_type": "markdown",
   "metadata": {},
   "source": [
    "### Main Menu Function"
   ]
  },
  {
   "cell_type": "code",
   "execution_count": 7,
   "metadata": {},
   "outputs": [],
   "source": [
    "# def main_menu():\n",
    "#     while True:\n",
    "#         print('1: Add item\\\n",
    "#               2: Remove item\\\n",
    "#               3: Show list\\\n",
    "#               4: Update list\\\n",
    "#               5: Exit')\n",
    "#         choice = input('Enter your choice in numbers, from 1 - 4: ')\n",
    "#         if choice == '1':\n",
    "#             item_input = input('Enter item and price (e.g., mango:1.2): ')\n",
    "#             add_multiple_items(item_input)\n",
    "#         elif choice == '2':\n",
    "#             item_name = input('Enter item name to remove: ')\n",
    "#             remove_item(item_name)\n",
    "#         elif choice == '3':\n",
    "#             for item in shopping_list:\n",
    "#                 print(f'{item}: ${item_prices[item]}')\n",
    "#         elif choice == '4':\n",
    "#             # code here\n",
    "\n",
    "#         elif choice == '5':\n",
    "#             print('Exiting.')\n",
    "#             break\n",
    "#         else:\n",
    "#             print('Invalid choice, please try again.')\n",
    "\n",
    "# # Uncomment below line to run the main menu.\n",
    "# # main_menu()"
   ]
  },
  {
   "cell_type": "code",
   "execution_count": 8,
   "metadata": {},
   "outputs": [
    {
     "name": "stdout",
     "output_type": "stream",
     "text": [
      "1: Add item              2: Remove item              3: Show list              4: Update list              5: Exit\n",
      "apples: $1.5\n",
      "bananas: $0.5\n",
      "carrots: $0.3\n",
      "1: Add item              2: Remove item              3: Show list              4: Update list              5: Exit\n",
      "Item successfully added.\n",
      "Item successfully added.\n",
      "1: Add item              2: Remove item              3: Show list              4: Update list              5: Exit\n"
     ]
    }
   ],
   "source": [
    "def main_menu():\n",
    "    while True:\n",
    "        print('1: Add item\\n2: Remove item\\n3: Show list\\n4: Update list\\n5: Exit')\n",
    "        choice = input('Enter your choice in numbers, from 1 - 4: ')\n",
    "        if choice == '1':\n",
    "            item_input = input('Enter item and price (e.g., mango:1.2): ')\n",
    "            add_multiple_items(item_input)\n",
    "        elif choice == '2':\n",
    "            item_name = input('Enter item name to remove: ')\n",
    "            remove_item(item_name)\n",
    "        elif choice == '3':\n",
    "            for item in shopping_list:\n",
    "                print(f'{item}: ${item_prices[item]}')\n",
    "        elif choice == '4':\n",
    "            replaced_item = input('Enter item you want to replace')\n",
    "            new_item = input('Enter new item')\n",
    "            new_price = input('Enter price of new item') \n",
    "            update_item_in_list(replaced_item, new_item)\n",
    "            update_item_in_dict(replaced_item, new_item, new_price)\n",
    "        elif choice == '5':\n",
    "            print('Exiting.')\n",
    "            break\n",
    "        else:\n",
    "            print('Invalid choice, please try again.')\n",
    "\n",
    "main_menu()\n",
    "            "
   ]
  },
  {
   "cell_type": "code",
   "execution_count": null,
   "metadata": {},
   "outputs": [],
   "source": []
  }
 ],
 "metadata": {
  "kernelspec": {
   "display_name": "python_intro",
   "language": "python",
   "name": "python3"
  },
  "language_info": {
   "codemirror_mode": {
    "name": "ipython",
    "version": 3
   },
   "file_extension": ".py",
   "mimetype": "text/x-python",
   "name": "python",
   "nbconvert_exporter": "python",
   "pygments_lexer": "ipython3",
   "version": "3.12.4"
  }
 },
 "nbformat": 4,
 "nbformat_minor": 2
}
